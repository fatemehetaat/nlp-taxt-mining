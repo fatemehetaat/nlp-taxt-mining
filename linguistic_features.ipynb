{
 "cells": [
  {
   "cell_type": "code",
   "execution_count": null,
   "id": "0ff4c276",
   "metadata": {},
   "outputs": [],
   "source": [
    "\n",
    "import nltk\n",
    "from nltk import word_tokenize, sent_tokenize, pos_tag, FreqDist\n",
    "from collections import Counter\n",
    "import string\n",
    "\n",
    "# Make sure you have these NLTK resources downloaded\n",
    "nltk.download('punkt')\n",
    "nltk.download('averaged_perceptron_tagger')\n",
    "\n",
    "# Sample text (replace this with your own input later)\n",
    "text = \"\"\"\n",
    "The hotel was absolutely fantastic! The room was clean, the staff were friendly, and the location was perfect.\n",
    "However, the Wi-Fi was slow, and breakfast was a bit disappointing. Overall, I would recommend it.\n",
    "\"\"\"\n",
    "\n",
    "# Preprocess text\n",
    "sentences = sent_tokenize(text)\n",
    "words = word_tokenize(text.lower())\n",
    "words = [w for w in words if w.isalpha()]  # Remove punctuation/numbers\n",
    "\n",
    "# Basic stats\n",
    "num_sentences = len(sentences)\n",
    "num_words = len(words)\n",
    "unique_words = set(words)\n",
    "lexical_diversity = len(unique_words) / num_words\n",
    "\n",
    "# Sentence and word length\n",
    "avg_sentence_length = num_words / num_sentences\n",
    "avg_word_length = sum(len(w) for w in words) / num_words\n",
    "\n",
    "# POS tagging\n",
    "pos_tags = pos_tag(words)\n",
    "pos_counts = Counter(tag for word, tag in pos_tags)\n",
    "\n",
    "# Most common words\n",
    "fdist = FreqDist(words)\n",
    "most_common_words = fdist.most_common(10)\n",
    "\n",
    "# Output results\n",
    "print(\"---- Linguistic Features ----\")\n",
    "print(f\"Number of sentences: {num_sentences}\")\n",
    "print(f\"Number of words: {num_words}\")\n",
    "print(f\"Number of unique words: {len(unique_words)}\")\n",
    "print(f\"Lexical diversity: {lexical_diversity:.2f}\")\n",
    "print(f\"Average sentence length (in words): {avg_sentence_length:.2f}\")\n",
    "print(f\"Average word length: {avg_word_length:.2f}\")\n",
    "print(\"\\nPart of Speech Counts:\")\n",
    "for tag, count in pos_counts.items():\n",
    "    print(f\"{tag}: {count}\")\n",
    "print(\"\\nTop 10 most common words:\")\n",
    "for word, freq in most_common_words:\n",
    "    print(f\"{word}: {freq}\")\n"
   ]
  }
 ],
 "metadata": {
  "kernelspec": {
   "display_name": "Python 3 (ipykernel)",
   "language": "python",
   "name": "python3"
  },
  "language_info": {
   "codemirror_mode": {
    "name": "ipython",
    "version": 3
   },
   "file_extension": ".py",
   "mimetype": "text/x-python",
   "name": "python",
   "nbconvert_exporter": "python",
   "pygments_lexer": "ipython3",
   "version": "3.11.7"
  }
 },
 "nbformat": 4,
 "nbformat_minor": 5
}
